{
  "cells": [
    {
      "cell_type": "markdown",
      "metadata": {
        "id": "view-in-github",
        "colab_type": "text"
      },
      "source": [
        "<a href=\"https://colab.research.google.com/github/AlexKitipov/FractalNet/blob/main/FractalNet.ipynb\" target=\"_parent\"><img src=\"https://colab.research.google.com/assets/colab-badge.svg\" alt=\"Open In Colab\"/></a>"
      ]
    },
    {
      "cell_type": "code",
      "execution_count": 1,
      "metadata": {
        "colab": {
          "base_uri": "https://localhost:8080/"
        },
        "id": "Zq68DSY2rP2W",
        "outputId": "3d330fd1-ea1e-4172-a38f-fe6fd719b03b"
      },
      "outputs": [
        {
          "output_type": "stream",
          "name": "stdout",
          "text": [
            "Requirement already satisfied: cartopy in /usr/local/lib/python3.11/dist-packages (0.24.1)\n",
            "Requirement already satisfied: numpy>=1.23 in /usr/local/lib/python3.11/dist-packages (from cartopy) (2.0.2)\n",
            "Requirement already satisfied: matplotlib>=3.6 in /usr/local/lib/python3.11/dist-packages (from cartopy) (3.10.0)\n",
            "Requirement already satisfied: shapely>=1.8 in /usr/local/lib/python3.11/dist-packages (from cartopy) (2.1.1)\n",
            "Requirement already satisfied: packaging>=21 in /usr/local/lib/python3.11/dist-packages (from cartopy) (25.0)\n",
            "Requirement already satisfied: pyshp>=2.3 in /usr/local/lib/python3.11/dist-packages (from cartopy) (2.3.1)\n",
            "Requirement already satisfied: pyproj>=3.3.1 in /usr/local/lib/python3.11/dist-packages (from cartopy) (3.7.1)\n",
            "Requirement already satisfied: contourpy>=1.0.1 in /usr/local/lib/python3.11/dist-packages (from matplotlib>=3.6->cartopy) (1.3.2)\n",
            "Requirement already satisfied: cycler>=0.10 in /usr/local/lib/python3.11/dist-packages (from matplotlib>=3.6->cartopy) (0.12.1)\n",
            "Requirement already satisfied: fonttools>=4.22.0 in /usr/local/lib/python3.11/dist-packages (from matplotlib>=3.6->cartopy) (4.58.5)\n",
            "Requirement already satisfied: kiwisolver>=1.3.1 in /usr/local/lib/python3.11/dist-packages (from matplotlib>=3.6->cartopy) (1.4.8)\n",
            "Requirement already satisfied: pillow>=8 in /usr/local/lib/python3.11/dist-packages (from matplotlib>=3.6->cartopy) (11.2.1)\n",
            "Requirement already satisfied: pyparsing>=2.3.1 in /usr/local/lib/python3.11/dist-packages (from matplotlib>=3.6->cartopy) (3.2.3)\n",
            "Requirement already satisfied: python-dateutil>=2.7 in /usr/local/lib/python3.11/dist-packages (from matplotlib>=3.6->cartopy) (2.9.0.post0)\n",
            "Requirement already satisfied: certifi in /usr/local/lib/python3.11/dist-packages (from pyproj>=3.3.1->cartopy) (2025.7.14)\n",
            "Requirement already satisfied: six>=1.5 in /usr/local/lib/python3.11/dist-packages (from python-dateutil>=2.7->matplotlib>=3.6->cartopy) (1.17.0)\n"
          ]
        }
      ],
      "source": [
        "!pip install cartopy\n",
        "import cartopy"
      ]
    },
    {
      "cell_type": "code",
      "execution_count": 2,
      "metadata": {
        "colab": {
          "base_uri": "https://localhost:8080/"
        },
        "id": "w9llCG2wSRDx",
        "outputId": "60186a46-162b-4da1-9b8e-9233ffd34e56"
      },
      "outputs": [
        {
          "output_type": "stream",
          "name": "stdout",
          "text": [
            "Requirement already satisfied: pydot in /usr/local/lib/python3.11/dist-packages (3.0.4)\n",
            "Requirement already satisfied: pyparsing>=3.0.9 in /usr/local/lib/python3.11/dist-packages (from pydot) (3.2.3)\n"
          ]
        }
      ],
      "source": [
        "# https://pypi.python.org/pypi/pydot\n",
        "!apt-get -qq install -y graphviz && pip install pydot\n",
        "import pydot"
      ]
    },
    {
      "cell_type": "code",
      "execution_count": 3,
      "metadata": {
        "colab": {
          "base_uri": "https://localhost:8080/"
        },
        "id": "d_j7nNbKRmhx",
        "outputId": "4a901332-560f-4206-9a87-bcd813bb6777"
      },
      "outputs": [
        {
          "output_type": "stream",
          "name": "stdout",
          "text": [
            "Requirement already satisfied: libarchive in /usr/local/lib/python3.11/dist-packages (0.4.7)\n",
            "Requirement already satisfied: nose in /usr/local/lib/python3.11/dist-packages (from libarchive) (1.3.7)\n"
          ]
        }
      ],
      "source": [
        "# https://pypi.python.org/pypi/libarchive\n",
        "!apt-get -qq install -y libarchive-dev && pip install -U libarchive\n",
        "import libarchive"
      ]
    },
    {
      "cell_type": "code",
      "execution_count": 4,
      "metadata": {
        "colab": {
          "base_uri": "https://localhost:8080/"
        },
        "id": "__3eqm3q3sr-",
        "outputId": "226b6742-82b4-4b16-d0f3-060427772225"
      },
      "outputs": [
        {
          "output_type": "stream",
          "name": "stdout",
          "text": [
            "E: Package 'libfluidsynth1' has no installation candidate\n"
          ]
        }
      ],
      "source": [
        "!apt-get -qq install -y libfluidsynth1"
      ]
    },
    {
      "cell_type": "code",
      "execution_count": 5,
      "metadata": {
        "colab": {
          "base_uri": "https://localhost:8080/"
        },
        "id": "GQ18Kd5F3uKe",
        "outputId": "8b9ba8bd-f91d-486a-ad6a-920e1838bfcf"
      },
      "outputs": [
        {
          "output_type": "stream",
          "name": "stdout",
          "text": [
            "Requirement already satisfied: matplotlib-venn in /usr/local/lib/python3.11/dist-packages (1.1.2)\n",
            "Requirement already satisfied: matplotlib in /usr/local/lib/python3.11/dist-packages (from matplotlib-venn) (3.10.0)\n",
            "Requirement already satisfied: numpy in /usr/local/lib/python3.11/dist-packages (from matplotlib-venn) (2.0.2)\n",
            "Requirement already satisfied: scipy in /usr/local/lib/python3.11/dist-packages (from matplotlib-venn) (1.15.3)\n",
            "Requirement already satisfied: contourpy>=1.0.1 in /usr/local/lib/python3.11/dist-packages (from matplotlib->matplotlib-venn) (1.3.2)\n",
            "Requirement already satisfied: cycler>=0.10 in /usr/local/lib/python3.11/dist-packages (from matplotlib->matplotlib-venn) (0.12.1)\n",
            "Requirement already satisfied: fonttools>=4.22.0 in /usr/local/lib/python3.11/dist-packages (from matplotlib->matplotlib-venn) (4.58.5)\n",
            "Requirement already satisfied: kiwisolver>=1.3.1 in /usr/local/lib/python3.11/dist-packages (from matplotlib->matplotlib-venn) (1.4.8)\n",
            "Requirement already satisfied: packaging>=20.0 in /usr/local/lib/python3.11/dist-packages (from matplotlib->matplotlib-venn) (25.0)\n",
            "Requirement already satisfied: pillow>=8 in /usr/local/lib/python3.11/dist-packages (from matplotlib->matplotlib-venn) (11.2.1)\n",
            "Requirement already satisfied: pyparsing>=2.3.1 in /usr/local/lib/python3.11/dist-packages (from matplotlib->matplotlib-venn) (3.2.3)\n",
            "Requirement already satisfied: python-dateutil>=2.7 in /usr/local/lib/python3.11/dist-packages (from matplotlib->matplotlib-venn) (2.9.0.post0)\n",
            "Requirement already satisfied: six>=1.5 in /usr/local/lib/python3.11/dist-packages (from python-dateutil>=2.7->matplotlib->matplotlib-venn) (1.17.0)\n"
          ]
        }
      ],
      "source": [
        "!pip install matplotlib-venn"
      ]
    },
    {
      "cell_type": "code",
      "execution_count": 6,
      "metadata": {
        "colab": {
          "base_uri": "https://localhost:8080/"
        },
        "id": "NMa4MP5poiMH",
        "outputId": "d17e3eee-1e07-46a2-8c70-52e86253411e"
      },
      "outputs": [
        {
          "output_type": "stream",
          "name": "stdout",
          "text": [
            "/content/FractalNet\n"
          ]
        }
      ],
      "source": [
        "# Създай работна папка\n",
        "!mkdir -p /content/FractalNet/fractalnet\n",
        "\n",
        "# Премини в нея\n",
        "%cd /content/FractalNet"
      ]
    },
    {
      "cell_type": "code",
      "execution_count": 7,
      "metadata": {
        "colab": {
          "base_uri": "https://localhost:8080/"
        },
        "id": "pGJAh0OjtdAx",
        "outputId": "41e6d4e8-4796-49cb-9358-b5a9882bf2e7"
      },
      "outputs": [
        {
          "output_type": "stream",
          "name": "stdout",
          "text": [
            "Obtaining file:///content/FractalNet\n",
            "  Preparing metadata (setup.py): started\n",
            "  Preparing metadata (setup.py): finished with status 'done'\n",
            "Requirement already satisfied: torch>=1.7.0 in /usr/local/lib/python3.11/dist-packages (from fractalnet==0.1.0) (2.6.0+cu124)\n",
            "Requirement already satisfied: filelock in /usr/local/lib/python3.11/dist-packages (from torch>=1.7.0->fractalnet==0.1.0) (3.18.0)\n",
            "Requirement already satisfied: typing-extensions>=4.10.0 in /usr/local/lib/python3.11/dist-packages (from torch>=1.7.0->fractalnet==0.1.0) (4.14.1)\n",
            "Requirement already satisfied: networkx in /usr/local/lib/python3.11/dist-packages (from torch>=1.7.0->fractalnet==0.1.0) (3.5)\n",
            "Requirement already satisfied: jinja2 in /usr/local/lib/python3.11/dist-packages (from torch>=1.7.0->fractalnet==0.1.0) (3.1.6)\n",
            "Requirement already satisfied: fsspec in /usr/local/lib/python3.11/dist-packages (from torch>=1.7.0->fractalnet==0.1.0) (2025.3.2)\n",
            "Requirement already satisfied: nvidia-cuda-nvrtc-cu12==12.4.127 in /usr/local/lib/python3.11/dist-packages (from torch>=1.7.0->fractalnet==0.1.0) (12.4.127)\n",
            "Requirement already satisfied: nvidia-cuda-runtime-cu12==12.4.127 in /usr/local/lib/python3.11/dist-packages (from torch>=1.7.0->fractalnet==0.1.0) (12.4.127)\n",
            "Requirement already satisfied: nvidia-cuda-cupti-cu12==12.4.127 in /usr/local/lib/python3.11/dist-packages (from torch>=1.7.0->fractalnet==0.1.0) (12.4.127)\n",
            "Requirement already satisfied: nvidia-cudnn-cu12==9.1.0.70 in /usr/local/lib/python3.11/dist-packages (from torch>=1.7.0->fractalnet==0.1.0) (9.1.0.70)\n",
            "Requirement already satisfied: nvidia-cublas-cu12==12.4.5.8 in /usr/local/lib/python3.11/dist-packages (from torch>=1.7.0->fractalnet==0.1.0) (12.4.5.8)\n",
            "Requirement already satisfied: nvidia-cufft-cu12==11.2.1.3 in /usr/local/lib/python3.11/dist-packages (from torch>=1.7.0->fractalnet==0.1.0) (11.2.1.3)\n",
            "Requirement already satisfied: nvidia-curand-cu12==10.3.5.147 in /usr/local/lib/python3.11/dist-packages (from torch>=1.7.0->fractalnet==0.1.0) (10.3.5.147)\n",
            "Requirement already satisfied: nvidia-cusolver-cu12==11.6.1.9 in /usr/local/lib/python3.11/dist-packages (from torch>=1.7.0->fractalnet==0.1.0) (11.6.1.9)\n",
            "Requirement already satisfied: nvidia-cusparse-cu12==12.3.1.170 in /usr/local/lib/python3.11/dist-packages (from torch>=1.7.0->fractalnet==0.1.0) (12.3.1.170)\n",
            "Requirement already satisfied: nvidia-cusparselt-cu12==0.6.2 in /usr/local/lib/python3.11/dist-packages (from torch>=1.7.0->fractalnet==0.1.0) (0.6.2)\n",
            "Requirement already satisfied: nvidia-nccl-cu12==2.21.5 in /usr/local/lib/python3.11/dist-packages (from torch>=1.7.0->fractalnet==0.1.0) (2.21.5)\n",
            "Requirement already satisfied: nvidia-nvtx-cu12==12.4.127 in /usr/local/lib/python3.11/dist-packages (from torch>=1.7.0->fractalnet==0.1.0) (12.4.127)\n",
            "Requirement already satisfied: nvidia-nvjitlink-cu12==12.4.127 in /usr/local/lib/python3.11/dist-packages (from torch>=1.7.0->fractalnet==0.1.0) (12.4.127)\n",
            "Requirement already satisfied: triton==3.2.0 in /usr/local/lib/python3.11/dist-packages (from torch>=1.7.0->fractalnet==0.1.0) (3.2.0)\n",
            "Requirement already satisfied: sympy==1.13.1 in /usr/local/lib/python3.11/dist-packages (from torch>=1.7.0->fractalnet==0.1.0) (1.13.1)\n",
            "Requirement already satisfied: mpmath<1.4,>=1.1.0 in /usr/local/lib/python3.11/dist-packages (from sympy==1.13.1->torch>=1.7.0->fractalnet==0.1.0) (1.3.0)\n",
            "Requirement already satisfied: MarkupSafe>=2.0 in /usr/local/lib/python3.11/dist-packages (from jinja2->torch>=1.7.0->fractalnet==0.1.0) (3.0.2)\n",
            "Installing collected packages: fractalnet\n",
            "  Attempting uninstall: fractalnet\n",
            "    Found existing installation: fractalnet 0.1.0\n",
            "    Uninstalling fractalnet-0.1.0:\n",
            "      Successfully uninstalled fractalnet-0.1.0\n",
            "  Running setup.py develop for fractalnet\n",
            "Successfully installed fractalnet-0.1.0\n"
          ]
        }
      ],
      "source": [
        "%%bash\n",
        "set -e\n",
        "\n",
        "# 1. Отиваме в работната папка (ако няма – се създава)\n",
        "mkdir -p /content/FractalNet\n",
        "cd /content/FractalNet\n",
        "\n",
        "# 2. Пакетната конфигурация\n",
        "cat << 'EOF' > setup.py\n",
        "from setuptools import setup, find_packages\n",
        "\n",
        "setup(\n",
        "    name='fractalnet',\n",
        "    version='0.1.0',\n",
        "    description='Fractal Neural Network blocks for PyTorch',\n",
        "    author='Твоето Име',\n",
        "    packages=find_packages(),\n",
        "    install_requires=['torch>=1.7.0'],\n",
        "    python_requires='>=3.7'\n",
        ")\n",
        "EOF\n",
        "\n",
        "# 3. Създаваме пакета и кода\n",
        "mkdir -p fractalnet\n",
        "\n",
        "cat << 'EOF' > fractalnet/blocks.py\n",
        "import torch, random # Added torch import\n",
        "import torch.nn as nn\n",
        "\n",
        "class FractalBlock(nn.Module):\n",
        "    def __init__(self, in_ch, out_ch, depth, drop_rate=0.15):\n",
        "        super().__init__()\n",
        "        self.depth     = depth\n",
        "        self.drop_rate = drop_rate\n",
        "\n",
        "        if depth == 1:\n",
        "            self.block = nn.Sequential(\n",
        "                nn.Conv2d(in_ch, out_ch, kernel_size=3, padding=1, bias=False),\n",
        "                nn.BatchNorm2d(out_ch),\n",
        "                nn.ReLU(inplace=True)\n",
        "            )\n",
        "        else:\n",
        "            self.left  = FractalBlock(in_ch, out_ch, depth-1, drop_rate)\n",
        "            self.right = FractalBlock(in_ch, out_ch, depth-1, drop_rate)\n",
        "\n",
        "    def forward(self, x):\n",
        "        if self.depth == 1:\n",
        "            return self.block(x)\n",
        "\n",
        "        # drop-path\n",
        "        if self.training and random.random() < self.drop_rate:\n",
        "            return self.left(x) if random.random()<0.5 else self.right(x)\n",
        "\n",
        "        out_l = self.left(x)\n",
        "        out_r = self.right(x)\n",
        "        return 0.5 * (out_l + out_r)\n",
        "EOF\n",
        "\n",
        "cat << 'EOF' > fractalnet/model.py\n",
        "import torch # Added torch import\n",
        "import torch.nn as nn\n",
        "from fractalnet.blocks import FractalBlock # Corrected import\n",
        "\n",
        "class FractalNet(nn.Module):\n",
        "    \"\"\"\n",
        "    A simplified implementation of the Fractal Network architecture.\n",
        "    Based on \"FractalNet: Ultra-Deep Neural Networks without Residuals\"\n",
        "    (https://arxiv.org/abs/1607.03817)\n",
        "    \"\"\"\n",
        "    def __init__(self, num_classes=10, depth=3, drop_rate=0.15):\n",
        "        super().__init__()\n",
        "        self.conv1 = nn.Conv2d(3, 16, kernel_size=3, padding=1, bias=False)\n",
        "        self.bn1   = nn.BatchNorm2d(16)\n",
        "        self.relu  = nn.ReLU(inplace=True)\n",
        "        self.block = FractalBlock(16, 32, depth, drop_rate) # Example usage, adjust channels as needed\n",
        "        self.avg_pool = nn.AdaptiveAvgPool2d(1)\n",
        "        self.fc = nn.Linear(32, num_classes) # Adjust in_features based on block output\n",
        "\n",
        "    def forward(self, x):\n",
        "        x = self.relu(self.bn1(self.conv1(x)))\n",
        "        x = self.block(x)\n",
        "        x = self.avg_pool(x)\n",
        "        x = torch.flatten(x, 1)\n",
        "        x = self.fc(x)\n",
        "        return x\n",
        "EOF\n",
        "\n",
        "\n",
        "# празен __init__.py\n",
        "touch fractalnet/__init__.py\n",
        "\n",
        "# 4. Инсталираме локално\n",
        "pip install -e ."
      ]
    },
    {
      "cell_type": "code",
      "execution_count": 8,
      "metadata": {
        "id": "FEVYxtTQxwSM",
        "colab": {
          "base_uri": "https://localhost:8080/"
        },
        "outputId": "bcc87164-ff1a-4bd1-918c-1a043f8ebb50"
      },
      "outputs": [
        {
          "output_type": "stream",
          "name": "stdout",
          "text": [
            "Фрактален блок: FractalBlock(\n",
            "  (left): FractalBlock(\n",
            "    (left): FractalBlock(\n",
            "      (block): Sequential(\n",
            "        (0): Conv2d(3, 16, kernel_size=(3, 3), stride=(1, 1), padding=(1, 1), bias=False)\n",
            "        (1): BatchNorm2d(16, eps=1e-05, momentum=0.1, affine=True, track_running_stats=True)\n",
            "        (2): ReLU(inplace=True)\n",
            "      )\n",
            "    )\n",
            "    (right): FractalBlock(\n",
            "      (block): Sequential(\n",
            "        (0): Conv2d(3, 16, kernel_size=(3, 3), stride=(1, 1), padding=(1, 1), bias=False)\n",
            "        (1): BatchNorm2d(16, eps=1e-05, momentum=0.1, affine=True, track_running_stats=True)\n",
            "        (2): ReLU(inplace=True)\n",
            "      )\n",
            "    )\n",
            "  )\n",
            "  (right): FractalBlock(\n",
            "    (left): FractalBlock(\n",
            "      (block): Sequential(\n",
            "        (0): Conv2d(3, 16, kernel_size=(3, 3), stride=(1, 1), padding=(1, 1), bias=False)\n",
            "        (1): BatchNorm2d(16, eps=1e-05, momentum=0.1, affine=True, track_running_stats=True)\n",
            "        (2): ReLU(inplace=True)\n",
            "      )\n",
            "    )\n",
            "    (right): FractalBlock(\n",
            "      (block): Sequential(\n",
            "        (0): Conv2d(3, 16, kernel_size=(3, 3), stride=(1, 1), padding=(1, 1), bias=False)\n",
            "        (1): BatchNorm2d(16, eps=1e-05, momentum=0.1, affine=True, track_running_stats=True)\n",
            "        (2): ReLU(inplace=True)\n",
            "      )\n",
            "    )\n",
            "  )\n",
            ")\n",
            "Форма на изхода: torch.Size([1, 16, 32, 32])\n"
          ]
        }
      ],
      "source": [
        "import torch\n",
        "from fractalnet.blocks import FractalBlock\n",
        "\n",
        "# Пример за тестване на FractalBlock\n",
        "block = FractalBlock(in_ch=3, out_ch=16, depth=3)\n",
        "x     = torch.randn(1, 3, 32, 32)\n",
        "out   = block(x)\n",
        "print(\"Фрактален блок:\", block)\n",
        "print(\"Форма на изхода:\", out.shape)\n"
      ]
    },
    {
      "cell_type": "code",
      "execution_count": 9,
      "metadata": {
        "colab": {
          "base_uri": "https://localhost:8080/"
        },
        "id": "e1LDgN98orOg",
        "outputId": "53ccc71d-18cf-49b2-b137-688c9075beb6"
      },
      "outputs": [
        {
          "output_type": "stream",
          "name": "stderr",
          "text": [
            "INFO:root:running install\n",
            "/usr/local/lib/python3.11/dist-packages/setuptools/_distutils/cmd.py:66: SetuptoolsDeprecationWarning: setup.py install is deprecated.\n",
            "!!\n",
            "\n",
            "        ********************************************************************************\n",
            "        Please avoid running ``setup.py`` directly.\n",
            "        Instead, use pypa/build, pypa/installer or other\n",
            "        standards-based tools.\n",
            "\n",
            "        See https://blog.ganssle.io/articles/2021/10/setup-py-deprecated.html for details.\n",
            "        ********************************************************************************\n",
            "\n",
            "!!\n",
            "  self.initialize_options()\n",
            "/usr/local/lib/python3.11/dist-packages/setuptools/_distutils/cmd.py:66: EasyInstallDeprecationWarning: easy_install command is deprecated.\n",
            "!!\n",
            "\n",
            "        ********************************************************************************\n",
            "        Please avoid running ``setup.py`` and ``easy_install``.\n",
            "        Instead, use pypa/build, pypa/installer or other\n",
            "        standards-based tools.\n",
            "\n",
            "        See https://github.com/pypa/setuptools/issues/917 for details.\n",
            "        ********************************************************************************\n",
            "\n",
            "!!\n",
            "  self.initialize_options()\n",
            "INFO:root:running bdist_egg\n",
            "INFO:root:running egg_info\n",
            "INFO:root:writing fractalnet.egg-info/PKG-INFO\n",
            "INFO:root:writing dependency_links to fractalnet.egg-info/dependency_links.txt\n",
            "INFO:root:writing requirements to fractalnet.egg-info/requires.txt\n",
            "INFO:root:writing top-level names to fractalnet.egg-info/top_level.txt\n",
            "INFO:root:reading manifest file 'fractalnet.egg-info/SOURCES.txt'\n",
            "INFO:root:writing manifest file 'fractalnet.egg-info/SOURCES.txt'\n",
            "INFO:root:installing library code to build/bdist.linux-x86_64/egg\n",
            "INFO:root:running install_lib\n",
            "INFO:root:running build_py\n",
            "INFO:root:copying fractalnet/model.py -> build/lib/fractalnet\n",
            "INFO:root:copying fractalnet/__init__.py -> build/lib/fractalnet\n",
            "INFO:root:copying fractalnet/blocks.py -> build/lib/fractalnet\n",
            "INFO:root:creating build/bdist.linux-x86_64/egg\n",
            "INFO:root:creating build/bdist.linux-x86_64/egg/fractalnet\n",
            "INFO:root:copying build/lib/fractalnet/model.py -> build/bdist.linux-x86_64/egg/fractalnet\n",
            "INFO:root:copying build/lib/fractalnet/__init__.py -> build/bdist.linux-x86_64/egg/fractalnet\n",
            "INFO:root:copying build/lib/fractalnet/blocks.py -> build/bdist.linux-x86_64/egg/fractalnet\n",
            "INFO:root:byte-compiling build/bdist.linux-x86_64/egg/fractalnet/model.py to model.cpython-311.pyc\n",
            "INFO:root:byte-compiling build/bdist.linux-x86_64/egg/fractalnet/__init__.py to __init__.cpython-311.pyc\n",
            "INFO:root:byte-compiling build/bdist.linux-x86_64/egg/fractalnet/blocks.py to blocks.cpython-311.pyc\n",
            "INFO:root:creating build/bdist.linux-x86_64/egg/EGG-INFO\n",
            "INFO:root:copying fractalnet.egg-info/PKG-INFO -> build/bdist.linux-x86_64/egg/EGG-INFO\n",
            "INFO:root:copying fractalnet.egg-info/SOURCES.txt -> build/bdist.linux-x86_64/egg/EGG-INFO\n",
            "INFO:root:copying fractalnet.egg-info/dependency_links.txt -> build/bdist.linux-x86_64/egg/EGG-INFO\n",
            "INFO:root:copying fractalnet.egg-info/requires.txt -> build/bdist.linux-x86_64/egg/EGG-INFO\n",
            "INFO:root:copying fractalnet.egg-info/top_level.txt -> build/bdist.linux-x86_64/egg/EGG-INFO\n",
            "WARNING:root:zip_safe flag not set; analyzing archive contents...\n",
            "INFO:root:creating 'dist/fractalnet-0.1.0-py3.11.egg' and adding 'build/bdist.linux-x86_64/egg' to it\n",
            "INFO:root:removing 'build/bdist.linux-x86_64/egg' (and everything under it)\n",
            "INFO:root:Processing fractalnet-0.1.0-py3.11.egg\n",
            "INFO:root:Copying fractalnet-0.1.0-py3.11.egg to /usr/local/lib/python3.11/dist-packages\n",
            "INFO:root:Removing fractalnet 0.1.0 from easy-install.pth file\n",
            "INFO:root:Adding fractalnet 0.1.0 to easy-install.pth file\n",
            "INFO:root:detected new path '/content/FractalNet'\n",
            "INFO:root:\n",
            "Installed /usr/local/lib/python3.11/dist-packages/fractalnet-0.1.0-py3.11.egg\n",
            "INFO:root:Processing dependencies for fractalnet==0.1.0\n",
            "INFO:root:Searching for torch==2.6.0+cu124\n",
            "INFO:root:Best match: torch 2.6.0+cu124\n",
            "INFO:root:Adding torch 2.6.0+cu124 to easy-install.pth file\n",
            "INFO:root:detected new path './fractalnet-0.1.0-py3.11.egg'\n",
            "INFO:root:Installing torchfrtrace script to /usr/local/bin\n",
            "INFO:root:Installing torchrun script to /usr/local/bin\n",
            "INFO:root:\n",
            "Using /usr/local/lib/python3.11/dist-packages\n",
            "INFO:root:Searching for sympy==1.13.1\n",
            "INFO:root:Best match: sympy 1.13.1\n",
            "INFO:root:Adding sympy 1.13.1 to easy-install.pth file\n",
            "INFO:root:Installing isympy script to /usr/local/bin\n",
            "INFO:root:\n",
            "Using /usr/local/lib/python3.11/dist-packages\n",
            "INFO:root:Searching for triton==3.2.0\n",
            "INFO:root:Best match: triton 3.2.0\n",
            "INFO:root:Adding triton 3.2.0 to easy-install.pth file\n",
            "INFO:root:Installing proton script to /usr/local/bin\n",
            "INFO:root:Installing proton-viewer script to /usr/local/bin\n",
            "INFO:root:\n",
            "Using /usr/local/lib/python3.11/dist-packages\n",
            "INFO:root:Searching for nvidia-nvjitlink-cu12==12.4.127\n",
            "INFO:root:Best match: nvidia-nvjitlink-cu12 12.4.127\n",
            "INFO:root:Adding nvidia-nvjitlink-cu12 12.4.127 to easy-install.pth file\n",
            "INFO:root:\n",
            "Using /usr/local/lib/python3.11/dist-packages\n",
            "INFO:root:Searching for nvidia-nvtx-cu12==12.4.127\n",
            "INFO:root:Best match: nvidia-nvtx-cu12 12.4.127\n",
            "INFO:root:Adding nvidia-nvtx-cu12 12.4.127 to easy-install.pth file\n",
            "INFO:root:\n",
            "Using /usr/local/lib/python3.11/dist-packages\n",
            "INFO:root:Searching for nvidia-nccl-cu12==2.21.5\n",
            "INFO:root:Best match: nvidia-nccl-cu12 2.21.5\n",
            "INFO:root:Adding nvidia-nccl-cu12 2.21.5 to easy-install.pth file\n",
            "INFO:root:\n",
            "Using /usr/local/lib/python3.11/dist-packages\n",
            "INFO:root:Searching for nvidia-cusparselt-cu12==0.6.2\n",
            "INFO:root:Best match: nvidia-cusparselt-cu12 0.6.2\n",
            "INFO:root:Adding nvidia-cusparselt-cu12 0.6.2 to easy-install.pth file\n",
            "INFO:root:\n",
            "Using /usr/local/lib/python3.11/dist-packages\n",
            "INFO:root:Searching for nvidia-cusparse-cu12==12.3.1.170\n",
            "INFO:root:Best match: nvidia-cusparse-cu12 12.3.1.170\n",
            "INFO:root:Adding nvidia-cusparse-cu12 12.3.1.170 to easy-install.pth file\n",
            "INFO:root:\n",
            "Using /usr/local/lib/python3.11/dist-packages\n",
            "INFO:root:Searching for nvidia-cusolver-cu12==11.6.1.9\n",
            "INFO:root:Best match: nvidia-cusolver-cu12 11.6.1.9\n",
            "INFO:root:Adding nvidia-cusolver-cu12 11.6.1.9 to easy-install.pth file\n",
            "INFO:root:\n",
            "Using /usr/local/lib/python3.11/dist-packages\n",
            "INFO:root:Searching for nvidia-curand-cu12==10.3.5.147\n",
            "INFO:root:Best match: nvidia-curand-cu12 10.3.5.147\n",
            "INFO:root:Adding nvidia-curand-cu12 10.3.5.147 to easy-install.pth file\n",
            "INFO:root:\n",
            "Using /usr/local/lib/python3.11/dist-packages\n",
            "INFO:root:Searching for nvidia-cufft-cu12==11.2.1.3\n",
            "INFO:root:Best match: nvidia-cufft-cu12 11.2.1.3\n",
            "INFO:root:Adding nvidia-cufft-cu12 11.2.1.3 to easy-install.pth file\n",
            "INFO:root:\n",
            "Using /usr/local/lib/python3.11/dist-packages\n",
            "INFO:root:Searching for nvidia-cublas-cu12==12.4.5.8\n",
            "INFO:root:Best match: nvidia-cublas-cu12 12.4.5.8\n",
            "INFO:root:Adding nvidia-cublas-cu12 12.4.5.8 to easy-install.pth file\n",
            "INFO:root:\n",
            "Using /usr/local/lib/python3.11/dist-packages\n",
            "INFO:root:Searching for nvidia-cudnn-cu12==9.1.0.70\n",
            "INFO:root:Best match: nvidia-cudnn-cu12 9.1.0.70\n",
            "INFO:root:Adding nvidia-cudnn-cu12 9.1.0.70 to easy-install.pth file\n",
            "INFO:root:\n",
            "Using /usr/local/lib/python3.11/dist-packages\n",
            "INFO:root:Searching for nvidia-cuda-cupti-cu12==12.4.127\n",
            "INFO:root:Best match: nvidia-cuda-cupti-cu12 12.4.127\n",
            "INFO:root:Adding nvidia-cuda-cupti-cu12 12.4.127 to easy-install.pth file\n",
            "INFO:root:\n",
            "Using /usr/local/lib/python3.11/dist-packages\n",
            "INFO:root:Searching for nvidia-cuda-runtime-cu12==12.4.127\n",
            "INFO:root:Best match: nvidia-cuda-runtime-cu12 12.4.127\n",
            "INFO:root:Adding nvidia-cuda-runtime-cu12 12.4.127 to easy-install.pth file\n",
            "INFO:root:\n",
            "Using /usr/local/lib/python3.11/dist-packages\n",
            "INFO:root:Searching for nvidia-cuda-nvrtc-cu12==12.4.127\n",
            "INFO:root:Best match: nvidia-cuda-nvrtc-cu12 12.4.127\n",
            "INFO:root:Adding nvidia-cuda-nvrtc-cu12 12.4.127 to easy-install.pth file\n",
            "INFO:root:\n",
            "Using /usr/local/lib/python3.11/dist-packages\n",
            "INFO:root:Searching for fsspec==2025.3.2\n",
            "INFO:root:Best match: fsspec 2025.3.2\n",
            "INFO:root:Adding fsspec 2025.3.2 to easy-install.pth file\n",
            "INFO:root:\n",
            "Using /usr/local/lib/python3.11/dist-packages\n",
            "INFO:root:Searching for jinja2==3.1.6\n",
            "INFO:root:Best match: jinja2 3.1.6\n",
            "INFO:root:Adding jinja2 3.1.6 to easy-install.pth file\n",
            "INFO:root:\n",
            "Using /usr/local/lib/python3.11/dist-packages\n",
            "INFO:root:Searching for networkx==3.5\n",
            "INFO:root:Best match: networkx 3.5\n",
            "INFO:root:Adding networkx 3.5 to easy-install.pth file\n",
            "INFO:root:\n",
            "Using /usr/local/lib/python3.11/dist-packages\n",
            "INFO:root:Searching for typing-extensions==4.14.1\n",
            "INFO:root:Best match: typing-extensions 4.14.1\n",
            "INFO:root:Adding typing-extensions 4.14.1 to easy-install.pth file\n",
            "INFO:root:\n",
            "Using /usr/local/lib/python3.11/dist-packages\n",
            "INFO:root:Searching for filelock==3.18.0\n",
            "INFO:root:Best match: filelock 3.18.0\n",
            "INFO:root:Adding filelock 3.18.0 to easy-install.pth file\n",
            "INFO:root:\n",
            "Using /usr/local/lib/python3.11/dist-packages\n",
            "INFO:root:Searching for mpmath==1.3.0\n",
            "INFO:root:Best match: mpmath 1.3.0\n",
            "INFO:root:Adding mpmath 1.3.0 to easy-install.pth file\n",
            "INFO:root:\n",
            "Using /usr/local/lib/python3.11/dist-packages\n",
            "INFO:root:Searching for MarkupSafe==3.0.2\n",
            "INFO:root:Best match: MarkupSafe 3.0.2\n",
            "INFO:root:Adding MarkupSafe 3.0.2 to easy-install.pth file\n",
            "INFO:root:\n",
            "Using /usr/local/lib/python3.11/dist-packages\n",
            "INFO:root:Finished processing dependencies for fractalnet==0.1.0\n"
          ]
        }
      ],
      "source": [
        "%run setup.py install"
      ]
    },
    {
      "cell_type": "code",
      "execution_count": 10,
      "metadata": {
        "id": "GMoKX3T8yW2O"
      },
      "outputs": [],
      "source": [
        "!touch fractalnet/__init__.py"
      ]
    },
    {
      "cell_type": "code",
      "execution_count": 11,
      "metadata": {
        "id": "5cgBZCFlpMlE",
        "colab": {
          "base_uri": "https://localhost:8080/",
          "height": 707
        },
        "outputId": "c4776ac6-c4d4-4f09-a12c-1548d0000d67"
      },
      "outputs": [
        {
          "output_type": "stream",
          "name": "stdout",
          "text": [
            "\u001b[33mDEPRECATION: Loading egg at /usr/local/lib/python3.11/dist-packages/fractalnet-0.1.0-py3.11.egg is deprecated. pip 24.3 will enforce this behaviour change. A possible replacement is to use pip for package installation. Discussion can be found at https://github.com/pypa/pip/issues/12330\u001b[0m\u001b[33m\n",
            "\u001b[0mObtaining file:///content/FractalNet\n",
            "  Preparing metadata (setup.py) ... \u001b[?25l\u001b[?25hdone\n",
            "Requirement already satisfied: torch>=1.7.0 in /usr/local/lib/python3.11/dist-packages (from fractalnet==0.1.0) (2.6.0+cu124)\n",
            "Requirement already satisfied: filelock in /usr/local/lib/python3.11/dist-packages (from torch>=1.7.0->fractalnet==0.1.0) (3.18.0)\n",
            "Requirement already satisfied: typing-extensions>=4.10.0 in /usr/local/lib/python3.11/dist-packages (from torch>=1.7.0->fractalnet==0.1.0) (4.14.1)\n",
            "Requirement already satisfied: networkx in /usr/local/lib/python3.11/dist-packages (from torch>=1.7.0->fractalnet==0.1.0) (3.5)\n",
            "Requirement already satisfied: jinja2 in /usr/local/lib/python3.11/dist-packages (from torch>=1.7.0->fractalnet==0.1.0) (3.1.6)\n",
            "Requirement already satisfied: fsspec in /usr/local/lib/python3.11/dist-packages (from torch>=1.7.0->fractalnet==0.1.0) (2025.3.2)\n",
            "Requirement already satisfied: nvidia-cuda-nvrtc-cu12==12.4.127 in /usr/local/lib/python3.11/dist-packages (from torch>=1.7.0->fractalnet==0.1.0) (12.4.127)\n",
            "Requirement already satisfied: nvidia-cuda-runtime-cu12==12.4.127 in /usr/local/lib/python3.11/dist-packages (from torch>=1.7.0->fractalnet==0.1.0) (12.4.127)\n",
            "Requirement already satisfied: nvidia-cuda-cupti-cu12==12.4.127 in /usr/local/lib/python3.11/dist-packages (from torch>=1.7.0->fractalnet==0.1.0) (12.4.127)\n",
            "Requirement already satisfied: nvidia-cudnn-cu12==9.1.0.70 in /usr/local/lib/python3.11/dist-packages (from torch>=1.7.0->fractalnet==0.1.0) (9.1.0.70)\n",
            "Requirement already satisfied: nvidia-cublas-cu12==12.4.5.8 in /usr/local/lib/python3.11/dist-packages (from torch>=1.7.0->fractalnet==0.1.0) (12.4.5.8)\n",
            "Requirement already satisfied: nvidia-cufft-cu12==11.2.1.3 in /usr/local/lib/python3.11/dist-packages (from torch>=1.7.0->fractalnet==0.1.0) (11.2.1.3)\n",
            "Requirement already satisfied: nvidia-curand-cu12==10.3.5.147 in /usr/local/lib/python3.11/dist-packages (from torch>=1.7.0->fractalnet==0.1.0) (10.3.5.147)\n",
            "Requirement already satisfied: nvidia-cusolver-cu12==11.6.1.9 in /usr/local/lib/python3.11/dist-packages (from torch>=1.7.0->fractalnet==0.1.0) (11.6.1.9)\n",
            "Requirement already satisfied: nvidia-cusparse-cu12==12.3.1.170 in /usr/local/lib/python3.11/dist-packages (from torch>=1.7.0->fractalnet==0.1.0) (12.3.1.170)\n",
            "Requirement already satisfied: nvidia-cusparselt-cu12==0.6.2 in /usr/local/lib/python3.11/dist-packages (from torch>=1.7.0->fractalnet==0.1.0) (0.6.2)\n",
            "Requirement already satisfied: nvidia-nccl-cu12==2.21.5 in /usr/local/lib/python3.11/dist-packages (from torch>=1.7.0->fractalnet==0.1.0) (2.21.5)\n",
            "Requirement already satisfied: nvidia-nvtx-cu12==12.4.127 in /usr/local/lib/python3.11/dist-packages (from torch>=1.7.0->fractalnet==0.1.0) (12.4.127)\n",
            "Requirement already satisfied: nvidia-nvjitlink-cu12==12.4.127 in /usr/local/lib/python3.11/dist-packages (from torch>=1.7.0->fractalnet==0.1.0) (12.4.127)\n",
            "Requirement already satisfied: triton==3.2.0 in /usr/local/lib/python3.11/dist-packages (from torch>=1.7.0->fractalnet==0.1.0) (3.2.0)\n",
            "Requirement already satisfied: sympy==1.13.1 in /usr/local/lib/python3.11/dist-packages (from torch>=1.7.0->fractalnet==0.1.0) (1.13.1)\n",
            "Requirement already satisfied: mpmath<1.4,>=1.1.0 in /usr/local/lib/python3.11/dist-packages (from sympy==1.13.1->torch>=1.7.0->fractalnet==0.1.0) (1.3.0)\n",
            "Requirement already satisfied: MarkupSafe>=2.0 in /usr/local/lib/python3.11/dist-packages (from jinja2->torch>=1.7.0->fractalnet==0.1.0) (3.0.2)\n",
            "Installing collected packages: fractalnet\n",
            "  Attempting uninstall: fractalnet\n",
            "    Found existing installation: fractalnet 0.1.0\n",
            "    Uninstalling fractalnet-0.1.0:\n",
            "      Successfully uninstalled fractalnet-0.1.0\n",
            "  Running setup.py develop for fractalnet\n",
            "Successfully installed fractalnet-0.1.0\n"
          ]
        },
        {
          "output_type": "display_data",
          "data": {
            "application/vnd.colab-display-data+json": {
              "pip_warning": {
                "packages": [
                  "fractalnet"
                ]
              },
              "id": "9e239db9e87a44aa884280545ac75a9b"
            }
          },
          "metadata": {}
        }
      ],
      "source": [
        "pip install -e .\n"
      ]
    },
    {
      "cell_type": "code",
      "execution_count": 12,
      "metadata": {
        "id": "pbKcfOOUJ_F4",
        "colab": {
          "base_uri": "https://localhost:8080/"
        },
        "outputId": "805ff559-a9e8-4349-a9f3-84dee1040539"
      },
      "outputs": [
        {
          "output_type": "stream",
          "name": "stdout",
          "text": [
            "Изходна форма: torch.Size([1, 10])\n"
          ]
        }
      ],
      "source": [
        "from fractalnet.model import FractalNet\n",
        "import torch\n",
        "\n",
        "model = FractalNet()\n",
        "dummy_input = torch.randn(1, 3, 32, 32)\n",
        "output = model(dummy_input)\n",
        "\n",
        "print(\"Изходна форма:\", output.shape)\n"
      ]
    },
    {
      "cell_type": "code",
      "execution_count": 13,
      "metadata": {
        "id": "QG-ji1yWJeIA",
        "colab": {
          "base_uri": "https://localhost:8080/"
        },
        "outputId": "dfc1f741-10b2-4c40-9fb5-6b0b81aa2355"
      },
      "outputs": [
        {
          "output_type": "stream",
          "name": "stdout",
          "text": [
            "[Batch 100/391] Loss: 2.0703\n",
            "[Batch 200/391] Loss: 1.8957\n",
            "[Batch 300/391] Loss: 1.8075\n",
            "Test Accuracy: 32.82%\n"
          ]
        }
      ],
      "source": [
        "# ✅ Импортиране на всички нужни библиотеки\n",
        "import torch\n",
        "import torch.nn as nn\n",
        "import torch.optim as optim\n",
        "from torchvision import datasets, transforms\n",
        "from torch.utils.data import DataLoader\n",
        "from fractalnet.model import FractalNet  # Увери се, че пътят е верен\n",
        "\n",
        "# 🔧 Настройка на трансформациите\n",
        "transform = transforms.Compose([\n",
        "    transforms.RandomCrop(32, padding=4),\n",
        "    transforms.RandomHorizontalFlip(),\n",
        "    transforms.ToTensor(),\n",
        "    transforms.Normalize((0.5,)*3, (0.5,)*3)\n",
        "])\n",
        "\n",
        "# 📦 Зареждане на CIFAR-10\n",
        "train_ds = datasets.CIFAR10(root='.', train=True, download=True, transform=transform)\n",
        "test_ds = datasets.CIFAR10(root='.', train=False, download=True, transform=transform)\n",
        "\n",
        "train_loader = DataLoader(train_ds, batch_size=128, shuffle=True, num_workers=2)\n",
        "test_loader = DataLoader(test_ds, batch_size=256, shuffle=False, num_workers=2)\n",
        "\n",
        "# 🧠 Инициализация на модела и оптимизатора\n",
        "device = torch.device('cuda' if torch.cuda.is_available() else 'cpu')\n",
        "model = FractalNet(num_classes=10, depth=3, drop_rate=0.15).to(device)\n",
        "criterion = nn.CrossEntropyLoss()\n",
        "optimizer = optim.SGD(model.parameters(), lr=0.1, momentum=0.9, weight_decay=5e-4)\n",
        "\n",
        "# 🚀 Трениране – 1 епоха\n",
        "model.train()\n",
        "running_loss = 0.0\n",
        "for i, (images, labels) in enumerate(train_loader):\n",
        "    images, labels = images.to(device), labels.to(device)\n",
        "\n",
        "    optimizer.zero_grad()\n",
        "    outputs = model(images)  # 🔥 Тук вече има torch импортиран\n",
        "    loss = criterion(outputs, labels)\n",
        "    loss.backward()\n",
        "    optimizer.step()\n",
        "\n",
        "    running_loss += loss.item()\n",
        "    if (i + 1) % 100 == 0:\n",
        "        print(f\"[Batch {i+1}/{len(train_loader)}] Loss: {running_loss / 100:.4f}\")\n",
        "        running_loss = 0.0\n",
        "\n",
        "# ✅ Бърз тест за точност\n",
        "model.eval()\n",
        "correct = total = 0\n",
        "with torch.no_grad():\n",
        "    for images, labels in test_loader:\n",
        "        images, labels = images.to(device), labels.to(device)\n",
        "        preds = model(images).argmax(dim=1)\n",
        "        correct += (preds == labels).sum().item()\n",
        "        total += labels.size(0)\n",
        "\n",
        "print(f\"Test Accuracy: {100 * correct / total:.2f}%\")\n"
      ]
    },
    {
      "cell_type": "code",
      "execution_count": 14,
      "metadata": {
        "id": "YxUV1xumpfgD",
        "colab": {
          "base_uri": "https://localhost:8080/"
        },
        "outputId": "913ac63e-bdda-4399-ccfe-97f069d7eb25"
      },
      "outputs": [
        {
          "output_type": "stream",
          "name": "stdout",
          "text": [
            "FractalBlock(\n",
            "  (left): FractalBlock(\n",
            "    (left): FractalBlock(\n",
            "      (block): Sequential(\n",
            "        (0): Conv2d(3, 16, kernel_size=(3, 3), stride=(1, 1), padding=(1, 1), bias=False)\n",
            "        (1): BatchNorm2d(16, eps=1e-05, momentum=0.1, affine=True, track_running_stats=True)\n",
            "        (2): ReLU(inplace=True)\n",
            "      )\n",
            "    )\n",
            "    (right): FractalBlock(\n",
            "      (block): Sequential(\n",
            "        (0): Conv2d(3, 16, kernel_size=(3, 3), stride=(1, 1), padding=(1, 1), bias=False)\n",
            "        (1): BatchNorm2d(16, eps=1e-05, momentum=0.1, affine=True, track_running_stats=True)\n",
            "        (2): ReLU(inplace=True)\n",
            "      )\n",
            "    )\n",
            "  )\n",
            "  (right): FractalBlock(\n",
            "    (left): FractalBlock(\n",
            "      (block): Sequential(\n",
            "        (0): Conv2d(3, 16, kernel_size=(3, 3), stride=(1, 1), padding=(1, 1), bias=False)\n",
            "        (1): BatchNorm2d(16, eps=1e-05, momentum=0.1, affine=True, track_running_stats=True)\n",
            "        (2): ReLU(inplace=True)\n",
            "      )\n",
            "    )\n",
            "    (right): FractalBlock(\n",
            "      (block): Sequential(\n",
            "        (0): Conv2d(3, 16, kernel_size=(3, 3), stride=(1, 1), padding=(1, 1), bias=False)\n",
            "        (1): BatchNorm2d(16, eps=1e-05, momentum=0.1, affine=True, track_running_stats=True)\n",
            "        (2): ReLU(inplace=True)\n",
            "      )\n",
            "    )\n",
            "  )\n",
            ")\n",
            "Output shape: torch.Size([1, 16, 32, 32])\n"
          ]
        }
      ],
      "source": [
        "import torch\n",
        "from fractalnet.blocks import FractalBlock\n",
        "\n",
        "# Създай един фрактален блок\n",
        "block = FractalBlock(in_ch=3, out_ch=16, depth=3)\n",
        "print(block)\n",
        "\n",
        "# Пробно подаване на един “dummy” тензор\n",
        "x = torch.randn(1, 3, 32, 32)\n",
        "out = block(x)\n",
        "print(\"Output shape:\", out.shape)\n"
      ]
    },
    {
      "cell_type": "code",
      "execution_count": 15,
      "metadata": {
        "id": "Kvn8PDR6MucI",
        "colab": {
          "base_uri": "https://localhost:8080/",
          "height": 630
        },
        "outputId": "77196847-5bc6-478c-b312-22be199f04ce"
      },
      "outputs": [
        {
          "output_type": "stream",
          "name": "stdout",
          "text": [
            "[Epoch 1] Loss: 1.8959 | Test Accuracy: 32.43%\n",
            "[Epoch 2] Loss: 1.7233 | Test Accuracy: 35.98%\n",
            "[Epoch 3] Loss: 1.6572 | Test Accuracy: 36.05%\n",
            "[Epoch 4] Loss: 1.6158 | Test Accuracy: 39.54%\n",
            "[Epoch 5] Loss: 1.5678 | Test Accuracy: 37.38%\n",
            "[Epoch 6] Loss: 1.5326 | Test Accuracy: 37.30%\n",
            "[Epoch 7] Loss: 1.5030 | Test Accuracy: 41.91%\n",
            "[Epoch 8] Loss: 1.4893 | Test Accuracy: 32.11%\n",
            "[Epoch 9] Loss: 1.4759 | Test Accuracy: 46.15%\n",
            "[Epoch 10] Loss: 1.4648 | Test Accuracy: 43.83%\n",
            "[Epoch 11] Loss: 1.4622 | Test Accuracy: 46.08%\n",
            "[Epoch 12] Loss: 1.4478 | Test Accuracy: 43.97%\n",
            "[Epoch 13] Loss: 1.4518 | Test Accuracy: 46.96%\n",
            "[Epoch 14] Loss: 1.4489 | Test Accuracy: 43.94%\n",
            "[Epoch 15] Loss: 1.4419 | Test Accuracy: 45.56%\n",
            "[Epoch 16] Loss: 1.4313 | Test Accuracy: 41.59%\n",
            "[Epoch 17] Loss: 1.4391 | Test Accuracy: 48.70%\n",
            "[Epoch 18] Loss: 1.4279 | Test Accuracy: 40.55%\n",
            "[Epoch 19] Loss: 1.4264 | Test Accuracy: 44.99%\n",
            "[Epoch 20] Loss: 1.4367 | Test Accuracy: 46.84%\n",
            "⏱️ Общо време: 4215.7 сек\n"
          ]
        },
        {
          "output_type": "display_data",
          "data": {
            "text/plain": [
              "<Figure size 1000x400 with 2 Axes>"
            ],
            "image/png": "[encoded data removed]"
          },
          "metadata": {}
        }
      ],
      "source": [
        "import time\n",
        "import matplotlib.pyplot as plt\n",
        "import torch, torch.nn as nn, torch.optim as optim\n",
        "from torchvision import datasets, transforms\n",
        "from torch.utils.data import DataLoader\n",
        "from fractalnet.model import FractalNet\n",
        "\n",
        "# 1. Настройка на данните\n",
        "transform = transforms.Compose([\n",
        "    transforms.RandomCrop(32, padding=4),\n",
        "    transforms.RandomHorizontalFlip(),\n",
        "    transforms.ToTensor(),\n",
        "    transforms.Normalize((0.5,)*3, (0.5,)*3)\n",
        "])\n",
        "\n",
        "train_ds = datasets.CIFAR10(root='.', train=True,  download=True, transform=transform)\n",
        "test_ds  = datasets.CIFAR10(root='.', train=False, download=True, transform=transform)\n",
        "\n",
        "train_loader = DataLoader(train_ds, batch_size=128, shuffle=True,  num_workers=2)\n",
        "test_loader  = DataLoader(test_ds,  batch_size=256, shuffle=False, num_workers=2)\n",
        "\n",
        "# 2. Модел, loss, optimizer\n",
        "device = torch.device('cuda' if torch.cuda.is_available() else 'cpu')\n",
        "model  = FractalNet(num_classes=10, depth=3, drop_rate=0.15).to(device)\n",
        "criterion = nn.CrossEntropyLoss()\n",
        "optimizer = optim.SGD(model.parameters(), lr=0.1, momentum=0.9, weight_decay=5e-4)\n",
        "\n",
        "num_epochs = 20\n",
        "train_losses = []\n",
        "test_accs = []\n",
        "start_time = time.time()\n",
        "\n",
        "for epoch in range(num_epochs):\n",
        "    model.train()\n",
        "    running_loss = 0.0\n",
        "    for images, labels in train_loader:\n",
        "        images, labels = images.to(device), labels.to(device)\n",
        "        optimizer.zero_grad()\n",
        "        outputs = model(images)\n",
        "        loss = criterion(outputs, labels)\n",
        "        loss.backward()\n",
        "        optimizer.step()\n",
        "        running_loss += loss.item()\n",
        "\n",
        "    avg_loss = running_loss / len(train_loader)\n",
        "    train_losses.append(avg_loss)\n",
        "\n",
        "    # Evaluate\n",
        "    model.eval()\n",
        "    correct = total = 0\n",
        "    with torch.no_grad():\n",
        "        for images, labels in test_loader:\n",
        "            images, labels = images.to(device), labels.to(device)\n",
        "            preds = model(images).argmax(dim=1)\n",
        "            correct += (preds == labels).sum().item()\n",
        "            total += labels.size(0)\n",
        "    acc = 100 * correct / total\n",
        "    test_accs.append(acc)\n",
        "\n",
        "    print(f\"[Epoch {epoch+1}] Loss: {avg_loss:.4f} | Test Accuracy: {acc:.2f}%\")\n",
        "\n",
        "elapsed = time.time() - start_time\n",
        "print(f\"⏱️ Общо време: {elapsed:.1f} сек\")\n",
        "\n",
        "# Графики\n",
        "plt.figure(figsize=(10,4))\n",
        "plt.subplot(1,2,1)\n",
        "plt.plot(train_losses, label='Train Loss', color='crimson')\n",
        "plt.xlabel('Epoch')\n",
        "plt.ylabel('Loss')\n",
        "plt.title('Train Loss')\n",
        "plt.grid(True)\n",
        "\n",
        "plt.subplot(1,2,2)\n",
        "plt.plot(test_accs, label='Test Accuracy', color='darkgreen')\n",
        "plt.xlabel('Epoch')\n",
        "plt.ylabel('Accuracy (%)')\n",
        "plt.title('Test Accuracy')\n",
        "plt.grid(True)\n",
        "\n",
        "plt.tight_layout()\n",
        "plt.show()"
      ]
    },
    {
      "cell_type": "code",
      "execution_count": 16,
      "metadata": {
        "id": "98986bb2"
      },
      "outputs": [],
      "source": [
        "from fractalnet.blocks import FractalBlock"
      ]
    },
    {
      "cell_type": "code",
      "source": [
        "import time\n",
        "import torch\n",
        "import torch.nn as nn\n",
        "import torch.optim as optim\n",
        "from torchvision import datasets, transforms\n",
        "from torch.utils.data import DataLoader\n",
        "from fractalnet.model import FractalNet\n",
        "\n",
        "# 1. Настройка на данните\n",
        "transform = transforms.Compose([\n",
        "    transforms.RandomCrop(32, padding=4),\n",
        "    transforms.RandomHorizontalFlip(),\n",
        "    transforms.ToTensor(),\n",
        "    transforms.Normalize((0.5,)*3, (0.5,)*3),\n",
        "])\n",
        "\n",
        "train_ds = datasets.CIFAR10(root='.', train=True,  download=True, transform=transform)\n",
        "test_ds  = datasets.CIFAR10(root='.', train=False, download=True, transform=transform)\n",
        "\n",
        "train_loader = DataLoader(train_ds, batch_size=128, shuffle=True,  num_workers=2)\n",
        "test_loader  = DataLoader(test_ds,  batch_size=256, shuffle=False, num_workers=2)\n",
        "\n",
        "# 2. Модел, загуба и оптимизатор\n",
        "device    = torch.device('cuda' if torch.cuda.is_available() else 'cpu')\n",
        "model     = FractalNet(num_classes=10, depth=3, drop_rate=0.15).to(device)\n",
        "criterion = nn.CrossEntropyLoss()\n",
        "optimizer = optim.SGD(model.parameters(), lr=0.1, momentum=0.9, weight_decay=5e-4)\n",
        "\n",
        "# 3. Трениране за повече епохи\n",
        "num_epochs  = 50   # Може да зададете 50 или 100 за по-добра конвергенция\n",
        "train_losses = []\n",
        "test_accs    = []\n",
        "\n",
        "start = time.time()\n",
        "for epoch in range(1, num_epochs+1):\n",
        "    # --- Training ---\n",
        "    model.train()\n",
        "    running_loss = 0.0\n",
        "    for images, labels in train_loader:\n",
        "        images, labels = images.to(device), labels.to(device)\n",
        "\n",
        "        optimizer.zero_grad()\n",
        "        outputs = model(images)\n",
        "        loss    = criterion(outputs, labels)\n",
        "        loss.backward()\n",
        "        optimizer.step()\n",
        "\n",
        "        running_loss += loss.item()\n",
        "    avg_loss = running_loss / len(train_loader)\n",
        "    train_losses.append(avg_loss)\n",
        "\n",
        "    # --- Validation ---\n",
        "    model.eval()\n",
        "    correct = total = 0\n",
        "    with torch.no_grad():\n",
        "        for images, labels in test_loader:\n",
        "            images, labels = images.to(device), labels.to(device)\n",
        "            preds = model(images).argmax(dim=1)\n",
        "            correct += (preds == labels).sum().item()\n",
        "            total   += labels.size(0)\n",
        "    acc = 100.0 * correct / total\n",
        "    test_accs.append(acc)\n",
        "\n",
        "    print(f\"[Epoch {epoch:2d}/{num_epochs}] \"\n",
        "          f\"Train Loss: {avg_loss:.4f} | Test Acc: {acc:5.2f}%\")\n",
        "\n",
        "elapsed = time.time() - start\n",
        "print(f\"\\nОбщо време за трениране: {elapsed:.1f} сек.\")\n"
      ],
      "metadata": {
        "colab": {
          "base_uri": "https://localhost:8080/"
        },
        "id": "CE7Z7KKE-9hb",
        "outputId": "4113bffc-48bc-4bc3-9c90-217fad85d7f6"
      },
      "execution_count": 17,
      "outputs": [
        {
          "output_type": "stream",
          "name": "stdout",
          "text": [
            "[Epoch  1/50] Train Loss: 1.9067 | Test Acc: 32.49%\n",
            "[Epoch  2/50] Train Loss: 1.7258 | Test Acc: 37.19%\n",
            "[Epoch  3/50] Train Loss: 1.6544 | Test Acc: 41.09%\n",
            "[Epoch  4/50] Train Loss: 1.5931 | Test Acc: 40.70%\n",
            "[Epoch  5/50] Train Loss: 1.5574 | Test Acc: 42.24%\n",
            "[Epoch  6/50] Train Loss: 1.5214 | Test Acc: 41.24%\n",
            "[Epoch  7/50] Train Loss: 1.5059 | Test Acc: 44.96%\n",
            "[Epoch  8/50] Train Loss: 1.4963 | Test Acc: 46.22%\n",
            "[Epoch  9/50] Train Loss: 1.4800 | Test Acc: 37.62%\n",
            "[Epoch 10/50] Train Loss: 1.4717 | Test Acc: 44.32%\n",
            "[Epoch 11/50] Train Loss: 1.4636 | Test Acc: 44.45%\n",
            "[Epoch 12/50] Train Loss: 1.4668 | Test Acc: 46.69%\n",
            "[Epoch 13/50] Train Loss: 1.4580 | Test Acc: 46.52%\n",
            "[Epoch 14/50] Train Loss: 1.4491 | Test Acc: 43.87%\n",
            "[Epoch 15/50] Train Loss: 1.4487 | Test Acc: 42.86%\n",
            "[Epoch 16/50] Train Loss: 1.4397 | Test Acc: 43.35%\n",
            "[Epoch 17/50] Train Loss: 1.4349 | Test Acc: 44.83%\n",
            "[Epoch 18/50] Train Loss: 1.4355 | Test Acc: 43.33%\n",
            "[Epoch 19/50] Train Loss: 1.4432 | Test Acc: 39.37%\n",
            "[Epoch 20/50] Train Loss: 1.4325 | Test Acc: 42.62%\n",
            "[Epoch 21/50] Train Loss: 1.4309 | Test Acc: 46.54%\n",
            "[Epoch 22/50] Train Loss: 1.4278 | Test Acc: 46.58%\n",
            "[Epoch 23/50] Train Loss: 1.4338 | Test Acc: 48.30%\n",
            "[Epoch 24/50] Train Loss: 1.4229 | Test Acc: 45.13%\n",
            "[Epoch 25/50] Train Loss: 1.4289 | Test Acc: 43.95%\n",
            "[Epoch 26/50] Train Loss: 1.4223 | Test Acc: 43.90%\n",
            "[Epoch 27/50] Train Loss: 1.4326 | Test Acc: 42.16%\n",
            "[Epoch 28/50] Train Loss: 1.4273 | Test Acc: 44.98%\n",
            "[Epoch 29/50] Train Loss: 1.4254 | Test Acc: 43.71%\n",
            "[Epoch 30/50] Train Loss: 1.4212 | Test Acc: 48.93%\n",
            "[Epoch 31/50] Train Loss: 1.4294 | Test Acc: 45.38%\n",
            "[Epoch 32/50] Train Loss: 1.4168 | Test Acc: 44.36%\n",
            "[Epoch 33/50] Train Loss: 1.4208 | Test Acc: 45.37%\n",
            "[Epoch 34/50] Train Loss: 1.4197 | Test Acc: 46.42%\n",
            "[Epoch 35/50] Train Loss: 1.4278 | Test Acc: 46.63%\n",
            "[Epoch 36/50] Train Loss: 1.4153 | Test Acc: 43.26%\n",
            "[Epoch 37/50] Train Loss: 1.4215 | Test Acc: 43.31%\n",
            "[Epoch 38/50] Train Loss: 1.4156 | Test Acc: 45.81%\n",
            "[Epoch 39/50] Train Loss: 1.4202 | Test Acc: 46.69%\n",
            "[Epoch 40/50] Train Loss: 1.4145 | Test Acc: 47.67%\n",
            "[Epoch 41/50] Train Loss: 1.4199 | Test Acc: 37.05%\n",
            "[Epoch 42/50] Train Loss: 1.4222 | Test Acc: 42.93%\n",
            "[Epoch 43/50] Train Loss: 1.4124 | Test Acc: 44.41%\n",
            "[Epoch 44/50] Train Loss: 1.4122 | Test Acc: 42.58%\n",
            "[Epoch 45/50] Train Loss: 1.4180 | Test Acc: 39.52%\n",
            "[Epoch 46/50] Train Loss: 1.4198 | Test Acc: 42.89%\n",
            "[Epoch 47/50] Train Loss: 1.4148 | Test Acc: 41.17%\n",
            "[Epoch 48/50] Train Loss: 1.4168 | Test Acc: 48.14%\n",
            "[Epoch 49/50] Train Loss: 1.4172 | Test Acc: 47.53%\n",
            "[Epoch 50/50] Train Loss: 1.4089 | Test Acc: 45.04%\n",
            "\n",
            "Общо време за трениране: 10360.7 сек.\n"
          ]
        }
      ]
    },
    {
      "cell_type": "code",
      "execution_count": 18,
      "metadata": {
        "id": "p-RhQCLv_Hpl"
      },
      "outputs": [],
      "source": [
        "from fractalnet.blocks import FractalBlock"
      ]
    }
  ],
  "metadata": {
    "colab": {
      "provenance": [],
      "authorship_tag": "ABX9TyOSzoJ4cLkTYGtZ9CpypFGV",
      "include_colab_link": true
    },
    "kernelspec": {
      "display_name": "Python 3",
      "name": "python3"
    },
    "language_info": {
      "name": "python"
    }
  },
  "nbformat": 4,
  "nbformat_minor": 0
}